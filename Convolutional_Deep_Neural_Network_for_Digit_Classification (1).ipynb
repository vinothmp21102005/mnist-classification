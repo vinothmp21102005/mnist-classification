{
  "cells": [
    {
      "cell_type": "markdown",
      "metadata": {
        "id": "5x6KKN3rQFCl"
      },
      "source": [
        "# Name: VINOTH MP\n",
        "# reg.no: 212223240182"
      ]
    },
    {
      "cell_type": "code",
      "execution_count": null,
      "metadata": {
        "id": "ryexDEJjRgE1"
      },
      "outputs": [],
      "source": [
        "import numpy as np\n",
        "from tensorflow import keras\n",
        "from tensorflow.keras import layers\n",
        "from tensorflow.keras.datasets import mnist\n",
        "import tensorflow as tf\n",
        "import matplotlib.pyplot as plt\n",
        "from tensorflow.keras import utils\n",
        "import pandas as pd\n",
        "from sklearn.metrics import classification_report,confusion_matrix\n",
        "from tensorflow.keras.preprocessing import image"
      ]
    },
    {
      "cell_type": "code",
      "execution_count": null,
      "metadata": {
        "id": "d6NJjS8uQDSs"
      },
      "outputs": [],
      "source": []
    },
    {
      "cell_type": "code",
      "execution_count": null,
      "metadata": {
        "colab": {
          "base_uri": "https://localhost:8080/"
        },
        "id": "w5F5IyVZRujA",
        "outputId": "217977af-4917-4ad4-e82d-b17954d571be"
      },
      "outputs": [
        {
          "name": "stdout",
          "output_type": "stream",
          "text": [
            "Downloading data from https://storage.googleapis.com/tensorflow/tf-keras-datasets/mnist.npz\n",
            "11490434/11490434 [==============================] - 0s 0us/step\n"
          ]
        },
        {
          "data": {
            "text/plain": [
              "(60000, 28, 28)"
            ]
          },
          "execution_count": 5,
          "metadata": {},
          "output_type": "execute_result"
        }
      ],
      "source": [
        "(X_train, y_train), (X_test, y_test) = mnist.load_data()\n",
        "X_train.shape\n"
      ]
    },
    {
      "cell_type": "code",
      "execution_count": null,
      "metadata": {
        "colab": {
          "base_uri": "https://localhost:8080/"
        },
        "id": "Qlg0AyS0R86Z",
        "outputId": "632913fa-6d2b-45f2-bf62-b388e60d9d10"
      },
      "outputs": [
        {
          "data": {
            "text/plain": [
              "(10000, 28, 28)"
            ]
          },
          "execution_count": 6,
          "metadata": {},
          "output_type": "execute_result"
        }
      ],
      "source": [
        "X_test.shape\n"
      ]
    },
    {
      "cell_type": "code",
      "execution_count": null,
      "metadata": {
        "colab": {
          "base_uri": "https://localhost:8080/"
        },
        "id": "rSBQyHOlSCxY",
        "outputId": "637d8f3b-5491-4464-f0b6-31b0290703a8"
      },
      "outputs": [
        {
          "data": {
            "text/plain": [
              "(28, 28)"
            ]
          },
          "execution_count": 7,
          "metadata": {},
          "output_type": "execute_result"
        }
      ],
      "source": [
        "single_image= X_train[12045]\n",
        "single_image.shape\n"
      ]
    },
    {
      "cell_type": "code",
      "execution_count": null,
      "metadata": {
        "colab": {
          "base_uri": "https://localhost:8080/",
          "height": 447
        },
        "id": "g-6hYsgiSN4k",
        "outputId": "2545259e-80ff-487a-af86-f328bd4b3999"
      },
      "outputs": [
        {
          "data": {
            "text/plain": [
              "(60000,)"
            ]
          },
          "execution_count": 8,
          "metadata": {},
          "output_type": "execute_result"
        },
        {
          "data": {
            "image/png": "[encoded data removed]",
            "text/plain": [
              "<Figure size 640x480 with 1 Axes>"
            ]
          },
          "metadata": {},
          "output_type": "display_data"
        }
      ],
      "source": [
        "plt.imshow(single_image,cmap='gray')\n",
        "y_train.shape\n"
      ]
    },
    {
      "cell_type": "code",
      "execution_count": null,
      "metadata": {
        "id": "gadp6t5jSaJs"
      },
      "outputs": [],
      "source": [
        "X_train.min()\n",
        "X_train.max()\n",
        "X_train_scaled = X_train/255.0\n",
        "X_test_scaled = X_test/255.0"
      ]
    },
    {
      "cell_type": "code",
      "execution_count": null,
      "metadata": {
        "id": "wJ-ZkBCgSidI"
      },
      "outputs": [],
      "source": [
        "X_train_scaled.min()\n",
        "X_train_scaled.max()\n",
        "y_train[12045]\n",
        "y_train_onehot = utils.to_categorical(y_train,10)\n",
        "y_test_onehot = utils.to_categorical(y_test,10)\n",
        "\n",
        "X_train_scaled = X_train_scaled.reshape(-1,28,28,1)\n",
        "X_test_scaled = X_test_scaled.reshape(-1,28,28,1)"
      ]
    },
    {
      "cell_type": "code",
      "execution_count": null,
      "metadata": {
        "id": "WIfSGpjESwpw"
      },
      "outputs": [],
      "source": [
        "i=keras.Sequential()"
      ]
    },
    {
      "cell_type": "code",
      "execution_count": null,
      "metadata": {
        "colab": {
          "base_uri": "https://localhost:8080/"
        },
        "id": "UozYD0WmToOO",
        "outputId": "1f5c3411-0be6-4dbc-c2cf-362555a50276"
      },
      "outputs": [],
      "source": [
        "i.add(layers.Input(shape=(28,28,1)))\n",
        "i.add(layers.Conv2D(filters=32,kernel_size=(3,3)))\n",
        "i.add(layers.MaxPool2D(pool_size=(2,2)))\n",
        "i.add(layers.Flatten())\n",
        "i.add(layers.Dense(32,activation='relu'))\n",
        "i.add(layers.Dense(32,activation='relu'))\n",
        "i.add(layers.Dense(10,activation='softmax'))\n",
        "\n"
      ]
    },
    {
      "cell_type": "code",
      "execution_count": null,
      "metadata": {
        "id": "ZewO1ymaVEly"
      },
      "outputs": [],
      "source": [
        "i.compile(loss='categorical_crossentropy',optimizer='adam',metrics='accuracy')\n"
      ]
    },
    {
      "cell_type": "code",
      "execution_count": null,
      "metadata": {
        "colab": {
          "base_uri": "https://localhost:8080/"
        },
        "id": "TQn51HIOVR-_",
        "outputId": "6f236ac1-ba8b-4e83-bd98-23f5837ad151"
      },
      "outputs": [
        {
          "name": "stdout",
          "output_type": "stream",
          "text": [
            "Epoch 1/5\n",
            "469/469 [==============================] - 14s 28ms/step - loss: 0.3481 - accuracy: 0.8971 - val_loss: 0.1655 - val_accuracy: 0.9503\n",
            "Epoch 2/5\n",
            "469/469 [==============================] - 11s 24ms/step - loss: 0.1395 - accuracy: 0.9588 - val_loss: 0.1171 - val_accuracy: 0.9639\n",
            "Epoch 3/5\n",
            "469/469 [==============================] - 11s 24ms/step - loss: 0.0941 - accuracy: 0.9714 - val_loss: 0.0875 - val_accuracy: 0.9746\n",
            "Epoch 4/5\n",
            "469/469 [==============================] - 11s 24ms/step - loss: 0.0710 - accuracy: 0.9785 - val_loss: 0.0673 - val_accuracy: 0.9774\n",
            "Epoch 5/5\n",
            "469/469 [==============================] - 11s 24ms/step - loss: 0.0561 - accuracy: 0.9832 - val_loss: 0.0637 - val_accuracy: 0.9799\n"
          ]
        },
        {
          "data": {
            "text/plain": [
              "<keras.src.callbacks.History at 0x7c435406af20>"
            ]
          },
          "execution_count": 14,
          "metadata": {},
          "output_type": "execute_result"
        }
      ],
      "source": [
        "i.fit(X_train_scaled ,y_train_onehot, epochs=5,batch_size=128, validation_data=(X_test_scaled,y_test_onehot))\n"
      ]
    },
    {
      "cell_type": "code",
      "execution_count": null,
      "metadata": {
        "colab": {
          "base_uri": "https://localhost:8080/",
          "height": 860
        },
        "id": "vpvVllnnVcjh",
        "outputId": "4e9e70e3-5194-449c-d164-02ea69a78d91"
      },
      "outputs": [
        {
          "data": {
            "text/plain": [
              "<Axes: >"
            ]
          },
          "execution_count": 15,
          "metadata": {},
          "output_type": "execute_result"
        },
        {
          "data": {
            "image/png": "[encoded data removed]",
            "text/plain": [
              "<Figure size 640x480 with 1 Axes>"
            ]
          },
          "metadata": {},
          "output_type": "display_data"
        },
        {
          "data": {
            "image/png": "[encoded data removed]",
            "text/plain": [
              "<Figure size 640x480 with 1 Axes>"
            ]
          },
          "metadata": {},
          "output_type": "display_data"
        }
      ],
      "source": [
        "import pandas as pd\n",
        "metrics = pd.DataFrame(i.history.history)\n",
        "metrics.head()\n",
        "\n",
        "metrics[['accuracy','val_accuracy']].plot()\n",
        "\n",
        "metrics[['loss','val_loss']].plot()"
      ]
    },
    {
      "cell_type": "code",
      "execution_count": null,
      "metadata": {
        "colab": {
          "base_uri": "https://localhost:8080/"
        },
        "id": "kADdgWI7Vsb9",
        "outputId": "75a8fef4-4cfc-4c87-ca31-cabd1a0eb5bd"
      },
      "outputs": [
        {
          "name": "stdout",
          "output_type": "stream",
          "text": [
            "313/313 [==============================] - 2s 4ms/step\n",
            "[[ 971    0    0    1    0    1    2    1    3    1]\n",
            " [   0 1126    2    1    1    1    1    1    2    0]\n",
            " [   3    2 1005    0    4    0    2   11    4    1]\n",
            " [   0    1    3  991    1    3    1    5    5    0]\n",
            " [   1    0    0    0  971    0    3    1    2    4]\n",
            " [   2    0    0    7    0  875    4    1    3    0]\n",
            " [   9    3    1    0    4   10  929    0    2    0]\n",
            " [   2    2    8    0    0    0    0 1015    1    0]\n",
            " [   5    0    4    2    3    1    0    9  949    1]\n",
            " [   3    3    1    4   10    1    0   17    3  967]]\n",
            "              precision    recall  f1-score   support\n",
            "\n",
            "           0       0.97      0.99      0.98       980\n",
            "           1       0.99      0.99      0.99      1135\n",
            "           2       0.98      0.97      0.98      1032\n",
            "           3       0.99      0.98      0.98      1010\n",
            "           4       0.98      0.99      0.98       982\n",
            "           5       0.98      0.98      0.98       892\n",
            "           6       0.99      0.97      0.98       958\n",
            "           7       0.96      0.99      0.97      1028\n",
            "           8       0.97      0.97      0.97       974\n",
            "           9       0.99      0.96      0.98      1009\n",
            "\n",
            "    accuracy                           0.98     10000\n",
            "   macro avg       0.98      0.98      0.98     10000\n",
            "weighted avg       0.98      0.98      0.98     10000\n",
            "\n"
          ]
        }
      ],
      "source": [
        "x_test_predictions = np.argmax(i.predict(X_test_scaled), axis=1)\n",
        "\n",
        "print(confusion_matrix(y_test,x_test_predictions))\n",
        "\n",
        "print(classification_report(y_test,x_test_predictions))"
      ]
    },
    {
      "cell_type": "code",
      "execution_count": null,
      "metadata": {
        "colab": {
          "base_uri": "https://localhost:8080/"
        },
        "id": "UFXnVSItV0TX",
        "outputId": "0e0c6dd4-1069-4a0b-fa57-011c525a21e6"
      },
      "outputs": [
        {
          "name": "stdout",
          "output_type": "stream",
          "text": [
            "1/1 [==============================] - 0s 14ms/step\n",
            "[7]\n"
          ]
        }
      ],
      "source": [
        "img = image.load_img('/content/download.png')\n",
        "type(img)\n",
        "\n",
        "img = image.load_img('/content/download.png')\n",
        "img_tensor = tf.convert_to_tensor(np.asarray(img))\n",
        "img_28 = tf.image.resize(img_tensor,(28,28))\n",
        "img_28_gray = tf.image.rgb_to_grayscale(img_28)\n",
        "img_28_gray_scaled = img_28_gray.numpy()/255.0\n",
        "\n",
        "x_single_prediction = np.argmax(\n",
        "    i.predict(img_28_gray_scaled.reshape(1,28,28,1)),\n",
        "     axis=1)\n",
        "\n",
        "print(x_single_prediction)\n",
        "\n",
        "\n"
      ]
    },
    {
      "cell_type": "code",
      "execution_count": null,
      "metadata": {
        "colab": {
          "base_uri": "https://localhost:8080/",
          "height": 447
        },
        "id": "mLzUZ19qWxiO",
        "outputId": "88d855f9-79d9-4ecf-c861-234cb4b0fbe7"
      },
      "outputs": [
        {
          "name": "stdout",
          "output_type": "stream",
          "text": [
            "1/1 [==============================] - 0s 21ms/step\n"
          ]
        },
        {
          "data": {
            "image/png": "[encoded data removed]",
            "text/plain": [
              "<Figure size 640x480 with 1 Axes>"
            ]
          },
          "metadata": {},
          "output_type": "display_data"
        }
      ],
      "source": [
        "\n",
        "plt.imshow(img_28_gray_scaled.reshape(28,28),cmap='gray')\n",
        "\n",
        "img_28_gray_inverted = 255.0-img_28_gray\n",
        "img_28_gray_inverted_scaled = img_28_gray_inverted.numpy()/255.0\n",
        "\n",
        "x_single_prediction = np.argmax(\n",
        "    i.predict(img_28_gray_inverted_scaled.reshape(1,28,28,1)),\n",
        "     axis=1)"
      ]
    }
  ],
  "metadata": {
    "colab": {
      "provenance": []
    },
    "kernelspec": {
      "display_name": "Python 3",
      "name": "python3"
    },
    "language_info": {
      "name": "python"
    }
  },
  "nbformat": 4,
  "nbformat_minor": 0
}
